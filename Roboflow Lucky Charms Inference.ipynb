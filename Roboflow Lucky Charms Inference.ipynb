{
  "cells": [
    {
      "cell_type": "markdown",
      "metadata": {
        "id": "view-in-github",
        "colab_type": "text"
      },
      "source": [
        "<a href=\"https://colab.research.google.com/gist/JakeMalis/5b43ed40dc7e28518f5605dc8fcb35c7/roboflow-lucky-charms-inference.ipynb\" target=\"_parent\"><img src=\"https://colab.research.google.com/assets/colab-badge.svg\" alt=\"Open In Colab\"/></a>"
      ]
    },
    {
      "cell_type": "markdown",
      "metadata": {
        "id": "Cu2aI-T49buM"
      },
      "source": [
        "# Introduction\n",
        "\n",
        "In this tutorial we will use TensorFlow's Object Detection API and Roboflow's labeling platform to train and evaluate a model to detect marshmallows in lucky charms."
      ]
    },
    {
      "cell_type": "markdown",
      "metadata": {
        "id": "Yb-ls1rTateU"
      },
      "source": [
        "#### ![Roboflow](https://media-exp1.licdn.com/dms/image/C4D1BAQEf8_Y4I1CJwA/company-background_10000/0/1631290065486?e=2159024400&v=beta&t=0RCuQDNh2uELCij-75lsTMJFgCcCzveJh7fOJNaCW3E)"
      ]
    },
    {
      "cell_type": "code",
      "source": [
        "project_name = \"lucky-charms-detection\""
      ],
      "metadata": {
        "id": "PZaFKicO7dtl"
      },
      "execution_count": null,
      "outputs": []
    },
    {
      "cell_type": "code",
      "source": [
        "from google.colab import auth\n",
        "auth.authenticate_user()"
      ],
      "metadata": {
        "id": "Un4PPyiR7eIB"
      },
      "execution_count": null,
      "outputs": []
    },
    {
      "cell_type": "code",
      "source": [
        "!gcloud config set project {project_name}"
      ],
      "metadata": {
        "id": "wBHC2m157iPD"
      },
      "execution_count": null,
      "outputs": []
    },
    {
      "cell_type": "markdown",
      "source": [
        "## Download data"
      ],
      "metadata": {
        "id": "Tu4sZxMD8Pjf"
      }
    },
    {
      "cell_type": "code",
      "source": [
        "model = \"efficientdet_d4_coco17_tpu-32\""
      ],
      "metadata": {
        "id": "e83wNfEJ8bI2"
      },
      "execution_count": null,
      "outputs": []
    },
    {
      "cell_type": "code",
      "source": [
        "bucket = 'colab-notebook-4f2d98b4-c663-11ec-a7b0-0242ac1c0002'"
      ],
      "metadata": {
        "id": "EmXEcXAs7gha"
      },
      "execution_count": null,
      "outputs": []
    },
    {
      "cell_type": "code",
      "source": [
        "!gsutil cp -r gs://{bucket}/export .\n",
        "!gsutil cp -r gs://{bucket}/{model} .\n",
        "!gsutil cp gs://{bucket}/dataset/train/marbits_label_map.pbtxt ./label_map.pbtxt\n",
        "!gsutil cp gs://{bucket}/model.config ."
      ],
      "metadata": {
        "id": "ssZZqvhS7lMK"
      },
      "execution_count": null,
      "outputs": []
    },
    {
      "cell_type": "markdown",
      "metadata": {
        "id": "ta2EYLCKbLxJ"
      },
      "source": [
        "# Downloads and Installations"
      ]
    },
    {
      "cell_type": "markdown",
      "metadata": {
        "id": "bMkaZ8ln_fc7"
      },
      "source": [
        "## Download and install the TensorFlow Object Detection API"
      ]
    },
    {
      "cell_type": "code",
      "execution_count": null,
      "metadata": {
        "id": "IEHSapDu9ZeC"
      },
      "outputs": [],
      "source": [
        "!git clone https://github.com/tensorflow/models.git"
      ]
    },
    {
      "cell_type": "code",
      "execution_count": null,
      "metadata": {
        "id": "mg8uyvIM_h2H"
      },
      "outputs": [],
      "source": [
        "%%capture\n",
        "%cd /content/models/research/\n",
        "!protoc object_detection/protos/*.proto --python_out=.\n",
        "!cp object_detection/packages/tf2/setup.py .\n",
        "!python -m pip install ."
      ]
    },
    {
      "cell_type": "markdown",
      "metadata": {
        "id": "1Ebb9Srq-fJx"
      },
      "source": [
        "# Run model inference"
      ]
    },
    {
      "cell_type": "markdown",
      "metadata": {
        "id": "0FunnyIi7o5S"
      },
      "source": [
        "## Configure inference using TensorFlow"
      ]
    },
    {
      "cell_type": "code",
      "source": [
        "%cd /content"
      ],
      "metadata": {
        "id": "3e3LtEfx-XrE"
      },
      "execution_count": null,
      "outputs": []
    },
    {
      "cell_type": "code",
      "execution_count": null,
      "metadata": {
        "id": "YL7SUFKyCR4-"
      },
      "outputs": [],
      "source": [
        "import numpy as np\n",
        "import os\n",
        "import six.moves.urllib as urllib\n",
        "import sys\n",
        "import tarfile\n",
        "import tensorflow as tf\n",
        "import zipfile\n",
        "\n",
        "from collections import defaultdict\n",
        "from io import StringIO\n",
        "from matplotlib import pyplot as plt\n",
        "from PIL import Image\n",
        "from IPython.display import display"
      ]
    },
    {
      "cell_type": "code",
      "execution_count": null,
      "metadata": {
        "id": "FcUgMvYrCSch"
      },
      "outputs": [],
      "source": [
        "from object_detection.utils import ops as utils_ops\n",
        "from object_detection.utils import label_map_util\n",
        "from object_detection.utils import visualization_utils as vis_util"
      ]
    },
    {
      "cell_type": "code",
      "execution_count": null,
      "metadata": {
        "id": "lei6yrh_CTui"
      },
      "outputs": [],
      "source": [
        "category_index = label_map_util.create_category_index_from_labelmap('label_map.pbtxt', use_display_name=True)"
      ]
    },
    {
      "cell_type": "code",
      "execution_count": null,
      "metadata": {
        "id": "pNyl7-31CgNB"
      },
      "outputs": [],
      "source": [
        "def run_inference_for_single_image(model, image):\n",
        "  image = np.asarray(image)\n",
        "  # The input needs to be a tensor, convert it using `tf.convert_to_tensor`.\n",
        "  input_tensor = tf.convert_to_tensor(image)\n",
        "  # The model expects a batch of images, so add an axis with `tf.newaxis`.\n",
        "  input_tensor = input_tensor[tf.newaxis,...]\n",
        "\n",
        "  # Run inference\n",
        "  model_fn = model.signatures['serving_default']\n",
        "  output_dict = model_fn(input_tensor)\n",
        "\n",
        "  # All outputs are batches tensors.\n",
        "  # Convert to numpy arrays, and take index [0] to remove the batch dimension.\n",
        "  # We're only interested in the first num_detections.\n",
        "  num_detections = int(output_dict.pop('num_detections'))\n",
        "  output_dict = {key:value[0, :num_detections].numpy() \n",
        "                 for key,value in output_dict.items()}\n",
        "  output_dict['num_detections'] = num_detections\n",
        "\n",
        "  # detection_classes should be ints.\n",
        "  output_dict['detection_classes'] = output_dict['detection_classes'].astype(np.int64)\n",
        "    \n",
        "  return output_dict"
      ]
    },
    {
      "cell_type": "code",
      "execution_count": null,
      "metadata": {
        "id": "8DcAhu5HCnf3"
      },
      "outputs": [],
      "source": [
        "def show_inference(model, image_path):\n",
        "  # the array based representation of the image will be used later in order to prepare the\n",
        "  # result image with boxes and labels on it.\n",
        "  image_np = np.array(Image.open(image_path))\n",
        "  # Actual detection.\n",
        "  output_dict = run_inference_for_single_image(model, image_np)\n",
        "  # Visualization of the results of a detection.\n",
        "  vis_util.visualize_boxes_and_labels_on_image_array(\n",
        "      image_np,\n",
        "      output_dict['detection_boxes'],\n",
        "      output_dict['detection_classes'],\n",
        "      output_dict['detection_scores'],\n",
        "      category_index,\n",
        "      instance_masks=output_dict.get('detection_masks_reframed', None),\n",
        "      use_normalized_coordinates=True,\n",
        "      line_thickness=8)\n",
        "\n",
        "  display(Image.fromarray(image_np))"
      ]
    },
    {
      "cell_type": "code",
      "execution_count": null,
      "metadata": {
        "id": "B3CTqqb-5PCu"
      },
      "outputs": [],
      "source": [
        "detection_model = tf.saved_model.load('export/saved_model')"
      ]
    },
    {
      "cell_type": "markdown",
      "source": [
        "## Run detection on uploaded images to root directory"
      ],
      "metadata": {
        "id": "zn57xvynn0uP"
      }
    },
    {
      "cell_type": "code",
      "source": [
        "import pathlib\n",
        "\n",
        "PATH_TO_TEST_IMAGES_DIR = pathlib.Path('/content')\n",
        "TEST_IMAGE_PATHS = sorted(list(PATH_TO_TEST_IMAGES_DIR.glob(\"*.jpg\")))\n",
        "TEST_IMAGE_PATHS"
      ],
      "metadata": {
        "id": "XVBeytGloOlk"
      },
      "execution_count": null,
      "outputs": []
    },
    {
      "cell_type": "code",
      "source": [
        "for image_path in TEST_IMAGE_PATHS:\n",
        "  show_inference(detection_model, image_path)"
      ],
      "metadata": {
        "id": "PVWGj258oTes"
      },
      "execution_count": null,
      "outputs": []
    }
  ],
  "metadata": {
    "colab": {
      "collapsed_sections": [],
      "name": "Roboflow Lucky Charms Inference.ipynb",
      "provenance": [],
      "authorship_tag": "ABX9TyMLfFRJ8B1+1g58nS6kYn5W",
      "include_colab_link": true
    },
    "kernelspec": {
      "display_name": "Python 3",
      "name": "python3"
    },
    "language_info": {
      "name": "python"
    }
  },
  "nbformat": 4,
  "nbformat_minor": 0
}