{
  "cells": [
    {
      "cell_type": "markdown",
      "metadata": {
        "id": "Yb-ls1rTateU"
      },
      "source": [
        "#### ![Roboflow](https://media-exp1.licdn.com/dms/image/C4D1BAQEf8_Y4I1CJwA/company-background_10000/0/1631290065486?e=2159024400&v=beta&t=0RCuQDNh2uELCij-75lsTMJFgCcCzveJh7fOJNaCW3E)"
      ]
    },
    {
      "cell_type": "markdown",
      "metadata": {
        "id": "pyKU1StBP62j"
      },
      "source": [
        "# Configure remote GSC storage"
      ]
    },
    {
      "cell_type": "code",
      "execution_count": null,
      "metadata": {
        "id": "TXhBpxomP_uS"
      },
      "outputs": [],
      "source": [
        "project_name = \"lucky-charms-detection\""
      ]
    },
    {
      "cell_type": "code",
      "execution_count": null,
      "metadata": {
        "id": "oubRueXzP4o6"
      },
      "outputs": [],
      "source": [
        "from google.colab import auth\n",
        "auth.authenticate_user()"
      ]
    },
    {
      "cell_type": "code",
      "execution_count": null,
      "metadata": {
        "id": "v_OlvWVDQPB7"
      },
      "outputs": [],
      "source": [
        "import uuid\n",
        "bucket = 'colab-notebook-' + str(uuid.uuid1())"
      ]
    },
    {
      "cell_type": "code",
      "execution_count": null,
      "metadata": {
        "id": "fa9HxpBbP-IN"
      },
      "outputs": [],
      "source": [
        "!gcloud config set project {project_name}"
      ]
    },
    {
      "cell_type": "code",
      "execution_count": null,
      "metadata": {
        "id": "2Pfm7IajQQUG"
      },
      "outputs": [],
      "source": [
        "!gsutil mb gs://{bucket}"
      ]
    },
    {
      "cell_type": "markdown",
      "metadata": {
        "id": "ta2EYLCKbLxJ"
      },
      "source": [
        "# Downloads and Installations"
      ]
    },
    {
      "cell_type": "markdown",
      "metadata": {
        "id": "bMkaZ8ln_fc7"
      },
      "source": [
        "## Download and install the TensorFlow Object Detection API"
      ]
    },
    {
      "cell_type": "code",
      "execution_count": null,
      "metadata": {
        "id": "IEHSapDu9ZeC"
      },
      "outputs": [],
      "source": [
        "!git clone https://github.com/tensorflow/models.git"
      ]
    },
    {
      "cell_type": "code",
      "execution_count": null,
      "metadata": {
        "id": "mg8uyvIM_h2H"
      },
      "outputs": [],
      "source": [
        "%%capture\n",
        "%cd /content/models/research/\n",
        "!protoc object_detection/protos/*.proto --python_out=.\n",
        "!cp object_detection/packages/tf2/setup.py .\n",
        "!python -m pip install ."
      ]
    },
    {
      "cell_type": "markdown",
      "metadata": {
        "id": "8KllDIMY_izc"
      },
      "source": [
        "## Download pretrained model"
      ]
    },
    {
      "cell_type": "code",
      "execution_count": null,
      "metadata": {
        "id": "WlUEP-jUEfP4"
      },
      "outputs": [],
      "source": [
        "model = \"ssd_resnet152_v1_fpn_1024x1024_coco17_tpu-8\""
      ]
    },
    {
      "cell_type": "code",
      "source": [
        "model_config = model #\"ssd_efficientdet_d4_1024x1024_coco17_tpu-32\""
      ],
      "metadata": {
        "id": "cgKMYnZoVrnF"
      },
      "execution_count": null,
      "outputs": []
    },
    {
      "cell_type": "code",
      "execution_count": null,
      "metadata": {
        "id": "me4Wq_hEAKif"
      },
      "outputs": [],
      "source": [
        "%cd /content\n",
        "!wget -O model.tar.gz http://download.tensorflow.org/models/object_detection/tf2/20200711/{model}.tar.gz\n",
        "!tar -xvf model.tar.gz"
      ]
    },
    {
      "cell_type": "code",
      "source": [
        "!wget -O model.config https://raw.githubusercontent.com/tensorflow/models/master/research/object_detection/configs/tf2/{model_config}.config"
      ],
      "metadata": {
        "id": "4J0sF2kVvLuS"
      },
      "execution_count": null,
      "outputs": []
    },
    {
      "cell_type": "markdown",
      "metadata": {
        "id": "GRy1950eEueB"
      },
      "source": [
        "## Download annotated dataset from Roboflow as TFRecord"
      ]
    },
    {
      "cell_type": "code",
      "execution_count": null,
      "metadata": {
        "id": "HxZDGz_u_k_O"
      },
      "outputs": [],
      "source": [
        "%%bash\n",
        "mkdir /content/dataset\n",
        "cd /content/dataset\n",
        "\n",
        "curl -L \"https://app.roboflow.com/ds/QuKgeWgrhO?key=nYPM5QxVU2\" > roboflow.zip; unzip roboflow.zip; rm roboflow.zip #raw dataset\n",
        "#curl -L \"https://app.roboflow.com/ds/gMetmOhec6?key=JSiBw1ByMW\" > roboflow.zip; unzip roboflow.zip; rm roboflow.zip ///55x augmentations"
      ]
    },
    {
      "cell_type": "markdown",
      "metadata": {
        "id": "9pz7-RTTXQ71"
      },
      "source": [
        "# Setup"
      ]
    },
    {
      "cell_type": "markdown",
      "metadata": {
        "id": "OmoCULggAPev"
      },
      "source": [
        "## Setup traning pipeline for our file locations"
      ]
    },
    {
      "cell_type": "code",
      "execution_count": null,
      "metadata": {
        "id": "RIieIWvEAR-N"
      },
      "outputs": [],
      "source": [
        "pipeline_config_path = 'model.config'\n",
        "\n",
        "model_dir = 'gs://{0}/training'.format(bucket)\n",
        "fine_tune_checkpoint = 'gs://{0}/{1}/checkpoint/ckpt-0'.format(bucket, model)\n",
        "\n",
        "label_map_path = 'gs://{0}/dataset/train/marbits_label_map.pbtxt'.format(bucket)\n",
        "train_record_path = 'gs://{0}/dataset/train/marbits.tfrecord'.format(bucket)\n",
        "test_record_path = 'gs://{0}/dataset/test/marbits.tfrecord'.format(bucket)"
      ]
    },
    {
      "cell_type": "markdown",
      "metadata": {
        "id": "QdFTrrbgNFFg"
      },
      "source": [
        "## Setup training variables"
      ]
    },
    {
      "cell_type": "code",
      "execution_count": null,
      "metadata": {
        "id": "c9tkK5yfANft"
      },
      "outputs": [],
      "source": [
        "num_steps = 10000\n",
        "batch_size = 32"
      ]
    },
    {
      "cell_type": "code",
      "execution_count": null,
      "metadata": {
        "id": "Jy8gn5gxAXGi"
      },
      "outputs": [],
      "source": [
        "def get_num_classes(pbtxt_fname):\n",
        "    from object_detection.utils import label_map_util\n",
        "    label_map = label_map_util.load_labelmap(pbtxt_fname)\n",
        "    categories = label_map_util.convert_label_map_to_categories(\n",
        "        label_map, max_num_classes=90, use_display_name=True)\n",
        "    category_index = label_map_util.create_category_index(categories)\n",
        "    return len(category_index.keys())\n",
        "num_classes = get_num_classes('/content/dataset/test/marbits_label_map.pbtxt')"
      ]
    },
    {
      "cell_type": "markdown",
      "metadata": {
        "id": "T1ofVfvSM2dA"
      },
      "source": [
        "## Configure pipeline configuration file with our specific file locations and training variables"
      ]
    },
    {
      "cell_type": "code",
      "execution_count": null,
      "metadata": {
        "id": "IXYPqpS_ATYb"
      },
      "outputs": [],
      "source": [
        "import re\n",
        "\n",
        "with open(pipeline_config_path) as f:\n",
        "    config = f.read()\n",
        "\n",
        "with open(pipeline_config_path, 'w') as f:\n",
        "\n",
        "  # Set labelmap path\n",
        "  config = re.sub('label_map_path: \".*?\"', \n",
        "  'label_map_path: \"{}\"'.format(label_map_path), config)\n",
        "  \n",
        "  # Set fine_tune_checkpoint path\n",
        "  config = re.sub('fine_tune_checkpoint: \".*?\"',\n",
        "                  'fine_tune_checkpoint: \"{}\"'.format(fine_tune_checkpoint),\n",
        "                  config)\n",
        "  \n",
        "  # Set train tf-record file path\n",
        "  config = re.sub('(input_path: \".*?)(PATH_TO_BE_CONFIGURED/train)(.*?\")', \n",
        "                  'input_path: \"{}\"'.format(train_record_path), config)\n",
        "  \n",
        "  # Set test tf-record file path\n",
        "  config = re.sub('(input_path: \".*?)(PATH_TO_BE_CONFIGURED/val)(.*?\")', \n",
        "                  'input_path: \"{}\"'.format(test_record_path), config)\n",
        "  \n",
        "  # Set number of classes.\n",
        "  config = re.sub('num_classes: [0-9]+',\n",
        "                  'num_classes: {}'.format(num_classes), config)\n",
        "  \n",
        "  # Set training steps\n",
        "  config = re.sub('num_steps: [0-9]+',\n",
        "                  'num_steps: {}'.format(num_steps), config)\n",
        "  \n",
        "  # Set training batch_size.\n",
        "  config = re.sub('batch_size: [0-9]+',\n",
        "                  'batch_size: {}'.format(batch_size), config)\n",
        "  \n",
        "  # Set fine tune checkpoint type to 'detection'.\n",
        "  config = re.sub('(fine_tune_checkpoint_type: \".*?)(classification)(.*?\")', \n",
        "                  'fine_tune_checkpoint_type: \"{}\"'.format('detection'), config)\n",
        "  \n",
        "  \n",
        "  f.write(config)"
      ]
    },
    {
      "cell_type": "code",
      "source": [
        "pipeline_config_path = 'gs://{0}/model.config'.format(bucket)"
      ],
      "metadata": {
        "id": "dwiLdGSY4KK0"
      },
      "execution_count": null,
      "outputs": []
    },
    {
      "cell_type": "markdown",
      "metadata": {
        "id": "fUghZgWhYzIZ"
      },
      "source": [
        "## Upload to Google Cloud Storage"
      ]
    },
    {
      "cell_type": "code",
      "execution_count": null,
      "metadata": {
        "id": "XH669KrDY1lM"
      },
      "outputs": [],
      "source": [
        "%cd /content\n",
        "!gsutil cp -r dataset/ gs://{bucket}\n",
        "!gsutil cp -r {model}/ gs://{bucket}\n",
        "!gsutil cp model.config gs://{bucket}"
      ]
    },
    {
      "cell_type": "markdown",
      "metadata": {
        "id": "HKCct3QxBFy7"
      },
      "source": [
        "# Train model"
      ]
    },
    {
      "cell_type": "markdown",
      "metadata": {
        "id": "ipiSQRTQbZyh"
      },
      "source": [
        "## Install OpenCV Python Headless\n",
        "\n",
        "*Due to a current issue with Colab's Version of OpenCV Python, you must manually install in order for the code to run*"
      ]
    },
    {
      "cell_type": "code",
      "execution_count": null,
      "metadata": {
        "id": "sUFJx7E2V5_j"
      },
      "outputs": [],
      "source": [
        "!pip install \"opencv-python-headless<4.3\""
      ]
    },
    {
      "cell_type": "markdown",
      "metadata": {
        "id": "9skSX5Wnbknw"
      },
      "source": [
        "## Run training"
      ]
    },
    {
      "cell_type": "code",
      "execution_count": null,
      "metadata": {
        "id": "j9CwMhr4BHxu"
      },
      "outputs": [],
      "source": [
        "!python /content/models/research/object_detection/model_main_tf2.py \\\n",
        "    --pipeline_config_path={pipeline_config_path} \\\n",
        "    --model_dir={model_dir} \\\n",
        "    --use_tpu=True \\\n",
        "    --alsologtostderr"
      ]
    },
    {
      "cell_type": "markdown",
      "metadata": {
        "id": "8gS2QGMTR74_"
      },
      "source": [
        "# Export model"
      ]
    },
    {
      "cell_type": "markdown",
      "metadata": {
        "id": "KhpmLNSSR9w3"
      },
      "source": [
        "## Save model checkpoints as frozen graph"
      ]
    },
    {
      "cell_type": "code",
      "execution_count": null,
      "metadata": {
        "id": "OeTSqyR8-DHW"
      },
      "outputs": [],
      "source": [
        "export_dir = '/content/export/'"
      ]
    },
    {
      "cell_type": "code",
      "execution_count": null,
      "metadata": {
        "id": "jcJeHjEqR9Ve"
      },
      "outputs": [],
      "source": [
        "!python /content/models/research/object_detection/exporter_main_v2.py \\\n",
        "    --input_type image_tensor \\\n",
        "    --pipeline_config_path {pipeline_config_path} \\\n",
        "    --trained_checkpoint_dir {model_dir} \\\n",
        "    --output_directory {export_dir}"
      ]
    },
    {
      "cell_type": "markdown",
      "metadata": {
        "id": "0ugIh-iD6l3s"
      },
      "source": [
        "## Save model to GCS"
      ]
    },
    {
      "cell_type": "code",
      "execution_count": null,
      "metadata": {
        "id": "kh9G_9S66NO1"
      },
      "outputs": [],
      "source": [
        "!gsutil cp -r export/ gs://{bucket}"
      ]
    }
  ],
  "metadata": {
    "accelerator": "TPU",
    "colab": {
      "provenance": [],
      "private_outputs": true,
      "machine_shape": "hm"
    },
    "kernelspec": {
      "display_name": "Python 3",
      "name": "python3"
    },
    "language_info": {
      "name": "python"
    }
  },
  "nbformat": 4,
  "nbformat_minor": 0
}